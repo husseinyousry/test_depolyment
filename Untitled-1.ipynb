{
 "cells": [
  {
   "cell_type": "code",
   "execution_count": 10,
   "metadata": {},
   "outputs": [
    {
     "name": "stdout",
     "output_type": "stream",
     "text": [
      "Writing heart.py\n"
     ]
    }
   ],
   "source": [
    "%%writefile heart.py\n",
    "import streamlit as st\n",
    "import pandas as pd\n",
    "import numpy as np\n",
    "import matplotlib.pyplot as plt\n",
    "import plotly.express as px\n",
    "\n",
    "\n",
    "st.title('This is my project which was assigned by Eng: Abdel Rahman')\n",
    "st.header(\"\"\"The dataset contains the following columns:\n",
    "\n",
    "\n",
    "1. age: The person's age in years\n",
    "2. Sex: The person\n",
    "3. chest_pain_type: The chest pain experienced by the person\n",
    "4. resting_blood_pressure: The person's resting blood pressure (mm Hg on admission to the hospital)\n",
    "5. cholestoral: The person's cholesterol measurement in mg/dl\n",
    "6. fasting_blood_sugar: The person's fasting blood sugar (> 120 mg/dl, 1 = true; 0 = false)\n",
    "7. resting_elec_cardio_graphic: resting electrocardiographic results\n",
    "8. max_heart_rate: The person's maximum heart rate achieved\n",
    "9. exercise_induced_angina: Exercise induced angina (1 = yes; 0 = no)\n",
    "10. st_depression: ST depression induced by exercise relative to rest\n",
    "11. major_vessels: The number of major vessels (0-3) colored by fluoroscopy\n",
    "12. thalassemia: A blood disorder called thalassemia\n",
    "13. heart_disease: The person's heart disease (1 = no, 0 = yes )\"\"\")\n",
    "\n",
    "st.code('This is a code section')\n",
    "st.image(r\"D:\\Data since\\Epsilon AI\\DSP\\Streamlit and dashboard\\what-is-data-analysis.jpg\")\n",
    "df = pd.read_csv(r\"D:\\Data since\\Epsilon AI\\DSP\\Streamlit and dashboard\\cleaned_heart_dataset.csv\")\n",
    "st.dataframe(df)\n",
    "if st.checkbox('Show the first 5 rows'):\n",
    "    st.write(df.head())\n",
    "if st.checkbox('Show the last 5 rows'):\n",
    "    st.write(df.tail())\n",
    "if st.button('Show top 5 Max Heart Rate'):\n",
    "    st.write(df['max_heart_rate'].head(5).sort_values(ascending=False).reset_index(drop=True))\n",
    "chest_pain = st.selectbox('chest pain type', [0, 1, 2, 3])\n",
    "if chest_pain == 0:\n",
    "    st.write(df[df['chest_pain_type'] == 0])\n",
    "if chest_pain == 1:\n",
    "    st.write(df[df['chest_pain_type'] == 1])\n",
    "if chest_pain == 2:\n",
    "    st.write(df[df['chest_pain_type'] == 2])\n",
    "if chest_pain == 3:\n",
    "    st.write(df[df['chest_pain_type'] == 3])\n",
    "st.write(df['chest_pain_type'].value_counts(0))\n",
    "filter_columns = st.multiselect('Select the columns to filter', df.columns)\n",
    "if filter_columns:\n",
    "    st.write(df[filter_columns])\n",
    "\n",
    "st.sidebar.title('Data Visualization')\n",
    "selected_column = st.sidebar.radio('Select the columns', ['sex', 'chest_pain_type', 'resting_blood_pressure', 'cholestoral', 'fasting_blood_sugar', 'resting_elec_cardio_graphic', 'max_heart_rate', 'exercise_induced_angina', 'st_depression', 'major_vessels', 'thalassemia', 'heart_disease'])\n",
    "\n",
    "random = np.random.randn(1000, 2)\n",
    "fig = px.histogram(random, x=random[:, 0], y=random[:, 1])\n",
    "st.write('Histogram')\n",
    "st.plotly_chart(fig)\n",
    "\n",
    "df_tips = px.data.tips()\n",
    "st.write('Bar Chart')\n",
    "st.plotly_chart(px.bar(df_tips, x='day', y='total_bill', color='sex', barmode='group'))\n",
    "\n",
    "st.write('Scatter Plot')\n",
    "st.plotly_chart(px.scatter(df_tips, x='total_bill', y='tip', size='size', color='sex'))\n",
    "\n",
    "st.write('bars Chart')\n",
    "st.plotly_chart(px.bar(df_tips, x='total_bill', y='tip', color='sex'))\n"
   ]
  },
  {
   "cell_type": "code",
   "execution_count": 11,
   "metadata": {},
   "outputs": [
    {
     "name": "stdout",
     "output_type": "stream",
     "text": [
      "^C\n"
     ]
    }
   ],
   "source": [
    "! streamlit run heart.py"
   ]
  }
 ],
 "metadata": {
  "kernelspec": {
   "display_name": "Python 3",
   "language": "python",
   "name": "python3"
  },
  "language_info": {
   "codemirror_mode": {
    "name": "ipython",
    "version": 3
   },
   "file_extension": ".py",
   "mimetype": "text/x-python",
   "name": "python",
   "nbconvert_exporter": "python",
   "pygments_lexer": "ipython3",
   "version": "3.13.1"
  }
 },
 "nbformat": 4,
 "nbformat_minor": 2
}
